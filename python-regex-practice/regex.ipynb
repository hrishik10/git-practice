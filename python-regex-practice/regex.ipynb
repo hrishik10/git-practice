{
 "cells": [
  {
   "cell_type": "code",
   "execution_count": 1,
   "metadata": {},
   "outputs": [],
   "source": [
    "import re"
   ]
  },
  {
   "cell_type": "code",
   "execution_count": 2,
   "metadata": {},
   "outputs": [],
   "source": [
    "\n",
    "text_to_search = '''\n",
    "abcdefghijklmnopqurtuvwxyz\n",
    "ABCDEFGHIJKLMNOPQRSTUVWXYZ\n",
    "1234567890\n",
    "Ha HaHa\n",
    "MetaCharacters (Need to be escaped):\n",
    ". ^ $ * + ? { } [ ] \\ | ( )\n",
    "coreyms.com\n",
    "321-555-4321\n",
    "123.555.1234\n",
    "123*555*1234\n",
    "800-555-1234\n",
    "900-555-1234\n",
    "Mr. Schafer\n",
    "Mr Smith\n",
    "Ms Davis\n",
    "Mrs. Robinson\n",
    "Mr. T\n",
    "abc\n",
    "'''\n"
   ]
  },
  {
   "cell_type": "code",
   "execution_count": 3,
   "metadata": {},
   "outputs": [],
   "source": [
    "sentence = 'Start a sentence and then bring it to an end'"
   ]
  },
  {
   "cell_type": "code",
   "execution_count": 4,
   "metadata": {},
   "outputs": [
    {
     "data": {
      "text/plain": [
       "re.Pattern"
      ]
     },
     "execution_count": 4,
     "metadata": {},
     "output_type": "execute_result"
    }
   ],
   "source": [
    "\n",
    "pattern = re.compile(r'abc')\n",
    "pattern2 = re.compile(r'coreyms\\.com')\n",
    "type(pattern)"
   ]
  },
  {
   "cell_type": "code",
   "execution_count": 5,
   "metadata": {},
   "outputs": [],
   "source": [
    "matches = pattern.finditer(text_to_search)\n",
    "type(matches)\n",
    "matches2 = pattern2.finditer(text_to_search)"
   ]
  },
  {
   "cell_type": "code",
   "execution_count": 6,
   "metadata": {},
   "outputs": [
    {
     "name": "stdout",
     "output_type": "stream",
     "text": [
      "<re.Match object; span=(139, 150), match='coreyms.com'>\n"
     ]
    }
   ],
   "source": [
    "for match in matches2:\n",
    "    print(match)"
   ]
  },
  {
   "cell_type": "code",
   "execution_count": 7,
   "metadata": {},
   "outputs": [
    {
     "name": "stdout",
     "output_type": "stream",
     "text": [
      "<re.Match object; span=(1, 4), match='abc'>\n",
      "<re.Match object; span=(266, 269), match='abc'>\n"
     ]
    }
   ],
   "source": [
    "for match in matches:\n",
    "    print(match)"
   ]
  },
  {
   "cell_type": "code",
   "execution_count": 8,
   "metadata": {},
   "outputs": [
    {
     "data": {
      "text/plain": [
       "'abc'"
      ]
     },
     "execution_count": 8,
     "metadata": {},
     "output_type": "execute_result"
    }
   ],
   "source": [
    "text_to_search[1:4]"
   ]
  },
  {
   "cell_type": "code",
   "execution_count": 9,
   "metadata": {},
   "outputs": [],
   "source": [
    "emails = '''\n",
    "CoreyMSchafer@gmail.com\n",
    "corey.schafer@university.edu\n",
    "corey-321-schafer@my-work.net\n",
    "'''"
   ]
  },
  {
   "cell_type": "code",
   "execution_count": 10,
   "metadata": {},
   "outputs": [],
   "source": [
    "urls = \"\"\"\n",
    "https://www.google.com\n",
    "http://coreyms.com\n",
    "https://youtube.com\n",
    "https://www.nasa.gov\n",
    "https://www.afafaf6746747a.in\n",
    "\"\"\"\n"
   ]
  },
  {
   "cell_type": "code",
   "execution_count": 11,
   "metadata": {},
   "outputs": [],
   "source": [
    "with open('data.txt','r') as f:\n",
    "    contents = f.read()\n",
    "    "
   ]
  },
  {
   "cell_type": "code",
   "execution_count": 12,
   "metadata": {},
   "outputs": [],
   "source": [
    "#pattern3 = re.compile(r'\\d\\d\\d[.-]\\d\\d\\d[.-]\\d\\d\\d\\d')\n",
    "#pattern3 = re.compile(r'[89]00[.-]\\d\\d\\d[.-]\\d\\d\\d\\d')\n",
    "#pattern3 = re.compile(r'[1-4]00[.-]\\d\\d\\d[.-]\\d\\d\\d\\d')\n",
    "#pattern3 = re.compile(r'[^a-zA-Z]') \n",
    "#within a character set []. '^' negates the set, matches everything that is not in the set\n",
    "#pattern3 = re.compile(r'[^b]at') \n",
    "#pattern3 = re.compile(r'30\\d{1}[.-]\\d{3}[.-]\\d{3,4}')\n",
    "#pattern4 = re.compile(r'(Mr|Ms|Mrs)\\.?\\s[A-Z]\\w*')\n",
    "#pattern3 = re.compile(r'\\w+\\d*@\\w*\\.com')\n",
    "pattern4 = re.compile(r'\\w+[^\\s]*@[^\\s]+\\.\\w+')\n",
    "pattern5 = re.compile(r'https?://(www\\.)?([^\\s]+)(\\.\\w+)')\n"
   ]
  },
  {
   "cell_type": "code",
   "execution_count": 13,
   "metadata": {},
   "outputs": [
    {
     "name": "stdout",
     "output_type": "stream",
     "text": [
      "\n",
      "google.com\n",
      "coreyms.com\n",
      "youtube.com\n",
      "nasa.gov\n",
      "afafaf6746747a.in\n",
      "\n"
     ]
    },
    {
     "data": {
      "text/plain": [
       "str"
      ]
     },
     "execution_count": 13,
     "metadata": {},
     "output_type": "execute_result"
    }
   ],
   "source": [
    "#matches = pattern3.finditer(contents)\n",
    "matches2 = pattern4.finditer(emails)\n",
    "matches3 = pattern5.finditer(urls)\n",
    "subbed_urls = pattern5.sub(r'\\2\\3',urls)\n",
    "print(subbed_urls)\n",
    "type(subbed_urls)"
   ]
  },
  {
   "cell_type": "code",
   "execution_count": 14,
   "metadata": {},
   "outputs": [],
   "source": [
    "#for match in matches:\n",
    " #   print(match)"
   ]
  },
  {
   "cell_type": "code",
   "execution_count": 15,
   "metadata": {},
   "outputs": [
    {
     "name": "stdout",
     "output_type": "stream",
     "text": [
      "google.com\n",
      "https://www.google.com\n",
      "coreyms.com\n",
      "http://coreyms.com\n",
      "youtube.com\n",
      "https://youtube.com\n",
      "nasa.gov\n",
      "https://www.nasa.gov\n",
      "afafaf6746747a.in\n",
      "https://www.afafaf6746747a.in\n"
     ]
    }
   ],
   "source": [
    "for match in matches3:\n",
    "    print(match.group(2)+match.group(3))\n",
    "    print(match.group(0))"
   ]
  },
  {
   "cell_type": "code",
   "execution_count": 16,
   "metadata": {},
   "outputs": [],
   "source": [
    "a = [1, 2, 3, 4]\n",
    "b = iter(a)"
   ]
  },
  {
   "cell_type": "code",
   "execution_count": 17,
   "metadata": {},
   "outputs": [
    {
     "data": {
      "text/plain": [
       "list_iterator"
      ]
     },
     "execution_count": 17,
     "metadata": {},
     "output_type": "execute_result"
    }
   ],
   "source": [
    "c = iter(b)\n",
    "type(c)"
   ]
  },
  {
   "cell_type": "code",
   "execution_count": 18,
   "metadata": {},
   "outputs": [
    {
     "name": "stdout",
     "output_type": "stream",
     "text": [
      "1\n",
      "2\n"
     ]
    }
   ],
   "source": [
    "for i in range(0,2):\n",
    "    print(next(b))"
   ]
  },
  {
   "cell_type": "code",
   "execution_count": 19,
   "metadata": {},
   "outputs": [
    {
     "name": "stdout",
     "output_type": "stream",
     "text": [
      "3\n",
      "4\n"
     ]
    }
   ],
   "source": [
    "for j in c:\n",
    "    print(j)"
   ]
  }
 ],
 "metadata": {
  "kernelspec": {
   "display_name": "Python 3",
   "language": "python",
   "name": "python3"
  },
  "language_info": {
   "codemirror_mode": {
    "name": "ipython",
    "version": 3
   },
   "file_extension": ".py",
   "mimetype": "text/x-python",
   "name": "python",
   "nbconvert_exporter": "python",
   "pygments_lexer": "ipython3",
   "version": "3.10.6"
  },
  "orig_nbformat": 4
 },
 "nbformat": 4,
 "nbformat_minor": 2
}
