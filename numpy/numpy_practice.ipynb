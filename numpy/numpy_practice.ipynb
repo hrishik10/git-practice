{
 "cells": [
  {
   "cell_type": "code",
   "execution_count": 1,
   "metadata": {},
   "outputs": [],
   "source": [
    "import numpy as np\n",
    "import sys"
   ]
  },
  {
   "attachments": {},
   "cell_type": "markdown",
   "metadata": {},
   "source": [
    "The Basics"
   ]
  },
  {
   "cell_type": "code",
   "execution_count": 2,
   "metadata": {},
   "outputs": [
    {
     "name": "stdout",
     "output_type": "stream",
     "text": [
      "[1 2 3]\n"
     ]
    }
   ],
   "source": [
    "a = np.array([1,2,3], dtype='int16')\n",
    "print(a)"
   ]
  },
  {
   "cell_type": "code",
   "execution_count": 3,
   "metadata": {},
   "outputs": [
    {
     "name": "stdout",
     "output_type": "stream",
     "text": [
      "[[1. 2. 3.]\n",
      " [4. 5. 6.]]\n",
      "Dimension are  2\n",
      "Rows are 2 and Columns 3 are \n",
      "Data type is float64\n"
     ]
    }
   ],
   "source": [
    "b = np.array([[1.0, 2.0, 3.0], [4.0, 5.0, 6.0]])\n",
    "print(b)\n",
    "print(\"Dimension are \", b.ndim)\n",
    "\n",
    "print(\"Rows are {} and Columns {} are \".format(*b.shape))\n",
    "print(\"Data type is {}\".format(b.dtype))\n"
   ]
  },
  {
   "cell_type": "code",
   "execution_count": 4,
   "metadata": {},
   "outputs": [
    {
     "name": "stdout",
     "output_type": "stream",
     "text": [
      "2 Byte(s)\n",
      "3 Byte(s)\n",
      "6 Byte(s)\n"
     ]
    }
   ],
   "source": [
    "#get the size \n",
    "print('{} Byte(s)'.format(a.itemsize)) # size of 1 element or lengt of an element in bytes\n",
    "print('{} Byte(s)'.format(a.size)) # number of elements\n",
    "print('{} Byte(s)'.format(a.nbytes)) # size * itemsize\n"
   ]
  },
  {
   "attachments": {},
   "cell_type": "markdown",
   "metadata": {},
   "source": [
    "Accessing/Changing specific elements, rows, columns etc"
   ]
  },
  {
   "cell_type": "code",
   "execution_count": 5,
   "metadata": {},
   "outputs": [
    {
     "name": "stdout",
     "output_type": "stream",
     "text": [
      "[[ 1  2  3  4  5  6  7]\n",
      " [ 8  9 10 11 12 13 14]]\n"
     ]
    }
   ],
   "source": [
    "t = np.array([[1,2,3,4,5,6,7],[8,9,10,11,12,13,14]])\n",
    "print(t)\n"
   ]
  },
  {
   "cell_type": "code",
   "execution_count": 6,
   "metadata": {},
   "outputs": [
    {
     "name": "stdout",
     "output_type": "stream",
     "text": [
      "13\n",
      "(2, 7)\n"
     ]
    }
   ],
   "source": [
    "#get specific element [row,column]\n",
    "#print(t[1,5])\n",
    "print(t[1,-2])\n",
    "print(t.shape)"
   ]
  },
  {
   "cell_type": "code",
   "execution_count": 7,
   "metadata": {},
   "outputs": [
    {
     "name": "stdout",
     "output_type": "stream",
     "text": [
      "[1 2 3 4 5 6 7]\n",
      "[2 9]\n",
      "[[ 1  3  5  7]\n",
      " [ 8 10 12 14]]\n"
     ]
    }
   ],
   "source": [
    "#getting specific row or column\n",
    "print(t[0,:])\n",
    "print(t[:,1])\n",
    "print(t[:,0:7:2])\n"
   ]
  },
  {
   "cell_type": "code",
   "execution_count": 8,
   "metadata": {},
   "outputs": [
    {
     "name": "stdout",
     "output_type": "stream",
     "text": [
      "[[ 21  22  23  24  25  26  27]\n",
      " [  8   9  10  11  12 100  14]]\n"
     ]
    }
   ],
   "source": [
    "t[1,5] = 100\n",
    "t[0,:] = [21,22,23,24,25,26,27]\n",
    "print(t)"
   ]
  },
  {
   "cell_type": "code",
   "execution_count": 9,
   "metadata": {},
   "outputs": [
    {
     "name": "stdout",
     "output_type": "stream",
     "text": [
      "This is a 3D array\n",
      "[[[ 1  2  3]\n",
      "  [ 4  5  6]]\n",
      "\n",
      " [[ 7  8  9]\n",
      "  [12 13 14]]]\n"
     ]
    }
   ],
   "source": [
    "#3D array\n",
    "d3_array = np.array([[[1,2,3],[4,5,6]],[[7,8,9],[12,13,14]]])\n",
    "print(\"This is a {}D array\".format(d3_array.ndim))\n",
    "print(d3_array)"
   ]
  },
  {
   "cell_type": "code",
   "execution_count": 10,
   "metadata": {},
   "outputs": [
    {
     "name": "stdout",
     "output_type": "stream",
     "text": [
      "6\n",
      "[[ 4  5  6]\n",
      " [12 13 14]]\n"
     ]
    }
   ],
   "source": [
    "#to get specific element from a 3D array, work outside in\n",
    "print(d3_array[0,1,2])\n",
    "print(d3_array[:,1,:])"
   ]
  },
  {
   "attachments": {},
   "cell_type": "markdown",
   "metadata": {},
   "source": [
    "Initializing Different types of Arrays"
   ]
  },
  {
   "cell_type": "code",
   "execution_count": 11,
   "metadata": {},
   "outputs": [
    {
     "name": "stdout",
     "output_type": "stream",
     "text": [
      "[[[0. 0. 0. 0.]\n",
      "  [0. 0. 0. 0.]\n",
      "  [0. 0. 0. 0.]]\n",
      "\n",
      " [[0. 0. 0. 0.]\n",
      "  [0. 0. 0. 0.]\n",
      "  [0. 0. 0. 0.]]\n",
      "\n",
      " [[0. 0. 0. 0.]\n",
      "  [0. 0. 0. 0.]\n",
      "  [0. 0. 0. 0.]]\n",
      "\n",
      " [[0. 0. 0. 0.]\n",
      "  [0. 0. 0. 0.]\n",
      "  [0. 0. 0. 0.]]]\n"
     ]
    }
   ],
   "source": [
    "#All zeros matrix\n",
    "print(np.zeros((4,3,4)))"
   ]
  }
 ],
 "metadata": {
  "kernelspec": {
   "display_name": "Python 3",
   "language": "python",
   "name": "python3"
  },
  "language_info": {
   "codemirror_mode": {
    "name": "ipython",
    "version": 3
   },
   "file_extension": ".py",
   "mimetype": "text/x-python",
   "name": "python",
   "nbconvert_exporter": "python",
   "pygments_lexer": "ipython3",
   "version": "3.10.6"
  },
  "orig_nbformat": 4
 },
 "nbformat": 4,
 "nbformat_minor": 2
}
